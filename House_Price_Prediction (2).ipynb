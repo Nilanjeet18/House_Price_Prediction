{
 "cells": [
  {
   "cell_type": "code",
   "execution_count": null,
   "id": "19124a0a",
   "metadata": {},
   "outputs": [],
   "source": [
    "house_df.shape"
   ]
  },
  {
   "cell_type": "code",
   "execution_count": null,
   "id": "c9075fc6",
   "metadata": {},
   "outputs": [],
   "source": [
    "house_df.head(3)"
   ]
  },
  {
   "cell_type": "code",
   "execution_count": null,
   "id": "fa763037",
   "metadata": {},
   "outputs": [],
   "source": [
    "house_df.drop_duplicates(inplace=True)"
   ]
  },
  {
   "cell_type": "code",
   "execution_count": null,
   "id": "11e7e8c5",
   "metadata": {},
   "outputs": [],
   "source": [
    "house_df.shape"
   ]
  },
  {
   "cell_type": "code",
   "execution_count": null,
   "id": "086734be",
   "metadata": {},
   "outputs": [],
   "source": [
    "house_df.columns"
   ]
  },
  {
   "cell_type": "code",
   "execution_count": null,
   "id": "0ff1a4f4",
   "metadata": {},
   "outputs": [],
   "source": [
    "house_df.drop(columns = [' Id '], inplace = True , axis =1)"
   ]
  },
  {
   "cell_type": "code",
   "execution_count": null,
   "id": "445d3abc",
   "metadata": {},
   "outputs": [],
   "source": [
    "house_df.head(3)"
   ]
  },
  {
   "cell_type": "code",
   "execution_count": null,
   "id": "c4ef79b7",
   "metadata": {},
   "outputs": [],
   "source": [
    "house_df.isna().sum()"
   ]
  },
  {
   "cell_type": "code",
   "execution_count": null,
   "id": "fb784863",
   "metadata": {},
   "outputs": [],
   "source": [
    "from sklearn.impute import SimpleImputer\n",
    "\n",
    "imputer = SimpleImputer(strategy='mean')\n",
    "\n",
    "imputer.fit(house_df[['SalePrice']])"
   ]
  },
  {
   "cell_type": "code",
   "execution_count": null,
   "id": "72870cc7",
   "metadata": {},
   "outputs": [],
   "source": [
    "imputer.statistics_"
   ]
  },
  {
   "cell_type": "code",
   "execution_count": null,
   "id": "58fb2e42",
   "metadata": {},
   "outputs": [],
   "source": [
    "house_df['SalePrice'] = imputer.transform(house_df[['SalePrice']])"
   ]
  },
  {
   "cell_type": "code",
   "execution_count": null,
   "id": "246a564b",
   "metadata": {},
   "outputs": [],
   "source": [
    "house_df.isna().sum()"
   ]
  },
  {
   "cell_type": "code",
   "execution_count": null,
   "id": "a4a6d302",
   "metadata": {},
   "outputs": [],
   "source": [
    "house_df = house_df.fillna(0)"
   ]
  },
  {
   "cell_type": "code",
   "execution_count": null,
   "id": "d297d4ff",
   "metadata": {},
   "outputs": [],
   "source": [
    "house_df.isna().sum()"
   ]
  },
  {
   "cell_type": "code",
   "execution_count": null,
   "id": "9d69e93c",
   "metadata": {},
   "outputs": [],
   "source": [
    "house_df.describe()"
   ]
  },
  {
   "cell_type": "code",
   "execution_count": null,
   "id": "b339d73a",
   "metadata": {},
   "outputs": [],
   "source": [
    "import matplotlib.pyplot as plt\n",
    "import seaborn as sns"
   ]
  },
  {
   "cell_type": "code",
   "execution_count": null,
   "id": "f75ba644",
   "metadata": {},
   "outputs": [],
   "source": [
    "sns.set_style('darkgrid')"
   ]
  },
  {
   "cell_type": "code",
   "execution_count": null,
   "id": "c701d8a9",
   "metadata": {},
   "outputs": [],
   "source": [
    "sns.boxplot(house_df, y = 'LotArea');"
   ]
  },
  {
   "cell_type": "code",
   "execution_count": null,
   "id": "05a9f7fe",
   "metadata": {},
   "outputs": [],
   "source": [
    "Q1 = np.percentile(house_df['LotArea'], 25, interpolation = 'midpoint')\n",
    "Q3 = np.percentile(house_df['LotArea'], 75, interpolation = 'midpoint')\n",
    "\n",
    "IQR = Q3 - Q1"
   ]
  },
  {
   "cell_type": "code",
   "execution_count": null,
   "id": "67536b9c",
   "metadata": {},
   "outputs": [],
   "source": [
    "lowerBound = Q1 - 1.5 * IQR\n",
    "upperBound = Q1 + 1.5 * IQR"
   ]
  },
  {
   "cell_type": "code",
   "execution_count": null,
   "id": "ac31828e",
   "metadata": {},
   "outputs": [],
   "source": [
    "df = house_df[(house_df.LotArea < upperBound) & (house_df.LotArea > lowerBound)]"
   ]
  },
  {
   "cell_type": "code",
   "execution_count": null,
   "id": "068c2e65",
   "metadata": {},
   "outputs": [],
   "source": [
    "df"
   ]
  },
  {
   "cell_type": "code",
   "execution_count": null,
   "id": "a3e4c8f7",
   "metadata": {},
   "outputs": [],
   "source": [
    "df.MSZoning.unique()"
   ]
  },
  {
   "cell_type": "code",
   "execution_count": null,
   "id": "5549716d",
   "metadata": {},
   "outputs": [],
   "source": [
    "df.info()"
   ]
  },
  {
   "cell_type": "code",
   "execution_count": null,
   "id": "4602fab5",
   "metadata": {},
   "outputs": [],
   "source": [
    "cat_cols = df.select_dtypes('object').columns.tolist()"
   ]
  },
  {
   "cell_type": "code",
   "execution_count": null,
   "id": "a19456f5",
   "metadata": {},
   "outputs": [],
   "source": [
    "cat_cols"
   ]
  },
  {
   "cell_type": "code",
   "execution_count": null,
   "id": "4a630f50",
   "metadata": {},
   "outputs": [],
   "source": [
    "from sklearn.preprocessing import OneHotEncoder\n",
    "\n",
    "# Replace 'sparse' with 'sparse_output'\n",
    "encoder = OneHotEncoder(sparse_output=False, handle_unknown='ignore')\n",
    "\n",
    "encoder.fit(df[cat_cols])"
   ]
  },
  {
   "cell_type": "code",
   "execution_count": null,
   "id": "9e466e15",
   "metadata": {},
   "outputs": [],
   "source": [
    "encoded_cols = encoder.get_feature_names_out(cat_cols)"
   ]
  },
  {
   "cell_type": "code",
   "execution_count": null,
   "id": "c2c9db5a",
   "metadata": {},
   "outputs": [],
   "source": [
    "encoded_cols"
   ]
  },
  {
   "cell_type": "code",
   "execution_count": null,
   "id": "389473b5",
   "metadata": {},
   "outputs": [],
   "source": [
    "df[encoded_cols] = encoder.transform(df[cat_cols])"
   ]
  },
  {
   "cell_type": "code",
   "execution_count": null,
   "id": "ec942670",
   "metadata": {},
   "outputs": [],
   "source": [
    "df"
   ]
  },
  {
   "cell_type": "code",
   "execution_count": null,
   "id": "84280b34",
   "metadata": {},
   "outputs": [],
   "source": [
    "X = df.drop(columns = 'SalePrice')\n",
    "y = df['SalePrice']"
   ]
  },
  {
   "cell_type": "code",
   "execution_count": null,
   "id": "354a6ffc",
   "metadata": {},
   "outputs": [],
   "source": [
    "from sklearn.preprocessing import MinMaxScaler\n",
    "\n",
    "scaler = MinMaxScaler()\n",
    "\n",
    "scaler.fit(X)"
   ]
  },
  {
   "cell_type": "code",
   "execution_count": null,
   "id": "f81cea4c",
   "metadata": {},
   "outputs": [],
   "source": [
    "X[:] = scaler.transform(X)"
   ]
  },
  {
   "cell_type": "code",
   "execution_count": null,
   "id": "ec1b5c37",
   "metadata": {},
   "outputs": [],
   "source": [
    "X"
   ]
  },
  {
   "cell_type": "code",
   "execution_count": null,
   "id": "86df4aaa",
   "metadata": {},
   "outputs": [],
   "source": [
    "from sklearn.model_selection import train_test_split\n",
    "\n",
    "X_train, X_test, y_train, y_test = train_test_split(X, y, test_size=0.2, random_state=42)"
   ]
  },
  {
   "cell_type": "code",
   "execution_count": null,
   "id": "334c3ae9",
   "metadata": {},
   "outputs": [],
   "source": [
    "X_train.shape, X_test.shape, y_train.shape, y_test.shape"
   ]
  },
  {
   "cell_type": "code",
   "execution_count": null,
   "id": "5c555f42",
   "metadata": {},
   "outputs": [],
   "source": [
    "from sklearn.linear_model import LinearRegression\n",
    "\n",
    "model = LinearRegression()\n",
    "\n",
    "model.fit(X_train, y_train)"
   ]
  },
  {
   "cell_type": "code",
   "execution_count": null,
   "id": "8b00160d",
   "metadata": {},
   "outputs": [],
   "source": [
    "y_pred = model.predict(X_test)"
   ]
  },
  {
   "cell_type": "code",
   "execution_count": null,
   "id": "b8f92c7d",
   "metadata": {},
   "outputs": [],
   "source": [
    "y_test[:5]"
   ]
  },
  {
   "cell_type": "code",
   "execution_count": null,
   "id": "e127c518",
   "metadata": {},
   "outputs": [],
   "source": [
    "y_pred[:5]"
   ]
  },
  {
   "cell_type": "code",
   "execution_count": null,
   "id": "f030b9f7",
   "metadata": {},
   "outputs": [],
   "source": [
    "from sklearn.metrics import mean_absolute_error"
   ]
  },
  {
   "cell_type": "code",
   "execution_count": null,
   "id": "ea130d01",
   "metadata": {},
   "outputs": [],
   "source": [
    "mean_absolute_error(y_test, y_pred)"
   ]
  },
  {
   "cell_type": "code",
   "execution_count": null,
   "id": "d8faf3eb",
   "metadata": {},
   "outputs": [],
   "source": [
    "from sklearn.linear_model import Lasso\n",
    "\n",
    "lasso_reg = Lasso(alpha=50, max_iter=100, tol = 0.1)\n",
    "\n",
    "lasso_reg.fit(X_train, y_train)"
   ]
  },
  {
   "cell_type": "code",
   "execution_count": null,
   "id": "2c4a4c48",
   "metadata": {},
   "outputs": [],
   "source": [
    "lasso_pred = lasso_reg.predict(X_test)"
   ]
  },
  {
   "cell_type": "code",
   "execution_count": null,
   "id": "4f03a637",
   "metadata": {},
   "outputs": [],
   "source": [
    "mean_absolute_error(y_test, lasso_pred)"
   ]
  },
  {
   "cell_type": "code",
   "execution_count": null,
   "id": "954fadb8",
   "metadata": {},
   "outputs": [],
   "source": [
    "from sklearn.linear_model import Ridge\n",
    "\n",
    "ridge_reg = Ridge(alpha=50, max_iter=100, tol = 0.1)\n",
    "\n",
    "ridge_reg.fit(X_train, y_train)"
   ]
  },
  {
   "cell_type": "code",
   "execution_count": null,
   "id": "205017fa",
   "metadata": {},
   "outputs": [],
   "source": [
    "ridge_pred = ridge_reg.predict(X_test)"
   ]
  },
  {
   "cell_type": "code",
   "execution_count": null,
   "id": "c0e99402",
   "metadata": {},
   "outputs": [],
   "source": [
    "mean_absolute_error(y_test, ridge_pred)"
   ]
  },
  {
   "cell_type": "code",
   "execution_count": null,
   "id": "5ece05f3",
   "metadata": {},
   "outputs": [],
   "source": []
  }
 ],
 "metadata": {
  "colab": {
   "provenance": []
  },
  "kernelspec": {
   "display_name": "Python 3",
   "name": "python3"
  },
  "language_info": {
   "name": "python"
  }
 },
 "nbformat": 4,
 "nbformat_minor": 5
}
